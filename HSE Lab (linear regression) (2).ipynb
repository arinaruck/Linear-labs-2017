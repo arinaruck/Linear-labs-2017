{
 "cells": [
  {
   "cell_type": "markdown",
   "metadata": {},
   "source": [
    "# Лабораторная работа 2\n",
    "\n",
    "**Внимание!** За эту работу можно получить не более 10 баллов. Так что вы можете выбрать, какие из заданий вам более интересны, и делать их. Оценка будет равна минимуму из 10 и полученного вами числа баллов.\n",
    "\n",
    "## Линейная регрессия"
   ]
  },
  {
   "cell_type": "markdown",
   "metadata": {},
   "source": [
    "### Метод наименьших квадратов: постановка задачи\n",
    "\n",
    "Рассмотрим систему уравнений $Xa = y$, в которой $a$ -- столбец неизвестных. Её можно переписать в векторном виде\n",
    "$$x_1 a_1 + x_2 a_2 + \\ldots + x_k a_k = y,$$\n",
    "где $x_1,\\ldots,x_n$ --- столбцы матрицы $X$. Таким образом, решить исходную систему означает найти линейную комбинацию векторов $x_1,\\ldots,x_n$, равную правой части. Но что делать, если такой линейной комбинации не существует? Геометрически это означает, что вектор $y$ не лежит в подпространстве $U = \\langle x_1,\\ldots, x_k\\rangle$. В этом случае мы можем найти *псевдорешение*: вектор коэффициентов $\\hat{a}$, для которого линейная комбинация $x_1 \\hat{a}_1 + x_2 \\hat{a}_2 + \\ldots + x_k \\hat{a}_k$ хоть и не равна в точности $y$, но является наилучшим приближением --- то есть ближайшей к $y$ точкой $\\hat{y}$ подпространства $U$ (иными словами, ортогональной проекцией $y$ на это подпростанство). Итак, цель наших исканий можно сформулировать двумя эквивалентными способами:\n",
    "\n",
    "1. Найти вектор $\\hat{a}$, для которого длина разности $|X\\hat{a} - y|$ минимальна (отсюда название \"метод наименьших квадратов\");\n",
    "2. Найти ортогональную проекцию $\\hat{y}$ вектора $y$ на подпространство $U$ и представить её в виде $X\\hat{a}$.\n",
    "\n",
    "Далее мы будем предполагать, что векторы $x_1,\\ldots,x_n$ линейно независимы (если нет, то сначала имеет смысл выделить максимальную линейно независимую подсистему).\n",
    "\n",
    "На лекциях было показано, что проекция вектора $y$ на подпространство $U = \\langle x_1,\\ldots, x_k\\rangle$, записывается в виде\n",
    "$$\\hat{y} = X\\left(X^TX\\right)^{-1}X^Ty,$$\n",
    "и, соответственно, искомый вектор $\\hat{a}$ равен\n",
    "$$\\hat{a} = \\left(X^TX\\right)^{-1}X^Ty.$$"
   ]
  },
  {
   "cell_type": "markdown",
   "metadata": {},
   "source": [
    "### Задача линейной регрессии\n",
    "\n",
    "Начнём с примера. Допустим, вы хотите найти зависимость среднего балла S студента ФКН от его роста H, веса W, длины волос L и N - количества часов, которые он ежедневно посвящает учёбе. Представьте, что мы измерили все эти параметры для $n$ студентов и получили наборы значений: $S_1,\\ldots, S_n$, $H_1,\\ldots, H_n$ и так далее.\n",
    "\n",
    "Тут можно подбирать много разных умных моделей, но начать имеет смысл с самой простой, линейной:\n",
    "$$S = a_1H + a_2W + a_3L + a_4N + a_5.$$\n",
    "Конечно, строгой линейной зависимости нет (иначе можно было бы радостно упразднить экзамены), но мы можем попробовать подобрать коэффициенты $a_1, a_2, a_3, a_4, a_5$, для которых отклонение правой части от наблюдаемых было бы наименьшим:\n",
    "$$\\sum_{i=1}^n\\left(S_i - ( a_1H_i + a_2W_i + a_3L_i + a_4N_i + a_5)\\right)^2 \\longrightarrow \\min$$\n",
    "И сразу видно, что мы получили задачу на метод наименьших квадратов! А именно, у нас\n",
    "$$X =\n",
    "\\begin{pmatrix}\n",
    "H_1 & W_1 & L_1 & N_1 & 1\\\\\n",
    "H_2 & W_2 & L_2 & N_2 & 1\\\\\n",
    "\\dots & \\dots & \\dots & \\dots & \\dots \\\\\n",
    "H_n & W_n & L_n & N_n & 1\n",
    "\\end{pmatrix},\\qquad y=\n",
    "\\begin{pmatrix}\n",
    "S_1\\\\ S_2\\\\ \\vdots \\\\ S_n\n",
    "\\end{pmatrix}$$\n",
    "\n",
    "Решая эту задачу с помощью уже известных формул, получаем оценки коэффициентов $\\hat{a}_i$ ($i = 1\\ldots,5$)."
   ]
  },
  {
   "cell_type": "markdown",
   "metadata": {},
   "source": [
    "Теперь проговорим общую постановку задачи линейной регрессии. У нас есть $k$ переменных $x_1,\\ldots,x_k$ (\"регрессоров\"), через которые мы хотим выразить \"объясняемую переменную\" $y$:\n",
    "$$y = a_1x_1 + a_2x_2 + \\ldots + a_kx_k$$\n",
    "Значения всех переменных мы измерили $n$ раз (у $n$ различных объектов,  в $n$ различных моментов времени - это зависит от задачи). Подставим эти данные в предыдущее равенство:\n",
    "$$\\begin{pmatrix}\n",
    "y_1\\\\ y_2 \\\\ \\vdots \\\\ y_n\n",
    "\\end{pmatrix} = \n",
    "a_1\\begin{pmatrix}\n",
    "x_{11} \\\\ x_{21} \\\\ \\vdots \\\\ x_{n1} \\end{pmatrix} + a_2\\begin{pmatrix}\n",
    "x_{12} \\\\ x_{22} \\\\ \\vdots \\\\ x_{n2} \\end{pmatrix} + \\ldots + a_k\\begin{pmatrix}\n",
    "x_{1k} \\\\ x_{2k} \\\\ \\vdots \\\\ x_{nk} \\end{pmatrix}$$\n",
    "(здесь $x_{ij}$ - это значение $j$-го признака на $i$-м измерении). Это удобно переписать в матричном виде:\n",
    "$$\\begin{pmatrix}\n",
    "x_{11} & x_{12} & \\ldots & x_{1k}\\\\\n",
    "x_{21} & x_{22} & \\ldots & x_{2k}\\\\\n",
    "\\dots & \\dots & \\dots & \\dots\\\\\n",
    "x_{n1} & x_{n2} & \\ldots & x_{nk}\n",
    "\\end{pmatrix} \\cdot\n",
    "\\begin{pmatrix}\n",
    "a_1 \\\\ a_2 \\\\ \\vdots \\\\ a_k\n",
    "\\end{pmatrix} = \n",
    "\\begin{pmatrix}\n",
    "y_1 \\\\ y_2 \\\\ \\vdots \\\\ y_n\n",
    "\\end{pmatrix}$$\n",
    "или коротко $Xa = y$. Поскольку на практике эта система уравнений зачастую не имеет решения (ибо зависимости в жизни редко бывают действительно линейными), методом наименьших квадратов ищется псевдорешение."
   ]
  },
  {
   "cell_type": "markdown",
   "metadata": {},
   "source": [
    "### Оценка качества. Обобщающая способность. Обучение и тест \n",
    "\n",
    "После того, как вы построили регрессию и получили какую-то зависимость объясняемой переменной от регрессоров, настаёт время оценить качество регрессии. Есть много разных функционалов качества; мы пока будем говорить только о самом простом и очевидном из них: о среднеквадратичной ошибке (mean square error). Она равна\n",
    "$$\\frac1{n}|X\\hat{a} - y|^2 = \\frac1{n}\\sum_{i=1}^n\\left(\\hat{a}_1x_{i1} + \\hat{a}_2x_{i2} + \\ldots + \\hat{a}_kx_{ik} - y_i\\right)^2$$\n",
    "\n",
    "В целом, хочется искать модели с наименьшей mean square error на имеющихся данных. Однако слишком фанатичная гонка за минимизацией ошибки может привести к печальным последствиям. Например, если мы приближаем функцию одной переменной по значениям в $n$ точках, то наилучшей с точки зрения этой ошибки моделью будет многочлен $(n-1)$-й степени, для которого эта ошибка будет равна нулю.  Тем не менее, вряд ли истинная зависимость имеет вид многочлена большой степени. Более того, значения вам скорее всего даны с погрешностью, то есть вы подогнали вашу модель под свои зашумлённые данные, но на любых других данных (то есть в других точках) точность, скорее всего, окажется совсем не такой хорошей. Этот эффект называют **переобучением**; говорят также, что **обобщающая способность** модели оказалась скверной.\n",
    "\n",
    "Чтобы не попадать в эту ловушку, данные обычно делят на обучающие (по которым строят модель и оценивают коэффициенты) и тестовые. Лучшей стоит счесть ту модель, для которой значение функционала качества будет меньше."
   ]
  },
  {
   "cell_type": "markdown",
   "metadata": {},
   "source": [
    "### Задание 1. Метод наименьших квадратов (4 балла)"
   ]
  },
  {
   "cell_type": "markdown",
   "metadata": {},
   "source": [
    "Скачайте файлы ``train.txt`` и ``test.txt``. В первом из них находится обучающая выборка, а во втором - тестовая. Каждый из файлов содержит два столбца чисел, разделённых пробелами: в первом - $n$ точек (значения аргумента $x$), во втором - значения некоторой функции $y = f(x)$ в этих точках, искажённые случайным шумом. Ваша задача - по обучающей выборке подобрать функцию $y = g(x)$, пристойно приближающую неизвестную вам зависимость."
   ]
  },
  {
   "cell_type": "markdown",
   "metadata": {},
   "source": [
    "Загрузим обучающие и тестовые данные (не забудьте ввести правильный путь!)."
   ]
  },
  {
   "cell_type": "code",
   "execution_count": 1,
   "metadata": {
    "collapsed": true
   },
   "outputs": [],
   "source": [
    "import numpy as np\n",
    "\n",
    "import scipy.linalg as sla\n",
    "\n",
    "import matplotlib.pyplot as plt\n",
    "%matplotlib inline"
   ]
  },
  {
   "cell_type": "code",
   "execution_count": 2,
   "metadata": {
    "collapsed": true
   },
   "outputs": [],
   "source": [
    "data_train = np.loadtxt('/Users/arinaruck/Downloads/train.txt', delimiter=',')\n",
    "data_test = np.loadtxt('/Users/arinaruck/Downloads/test.txt', delimiter=',')"
   ]
  },
  {
   "cell_type": "markdown",
   "metadata": {},
   "source": [
    "Разделим значения $x$ и $y$"
   ]
  },
  {
   "cell_type": "code",
   "execution_count": 3,
   "metadata": {
    "collapsed": true
   },
   "outputs": [],
   "source": [
    "X_train = data_train[:, 0]\n",
    "y_train = data_train[:, 1]\n",
    "\n",
    "X_test = data_test[:, 0]\n",
    "y_test = data_test[:, 1]\n",
    "\n",
    "# Сделайте то же для тестовой выборки"
   ]
  },
  {
   "cell_type": "code",
   "execution_count": 4,
   "metadata": {},
   "outputs": [
    {
     "name": "stdout",
     "output_type": "stream",
     "text": [
      "[-0.2  -0.14 -0.08 -0.02  0.04  0.1   0.16  0.22  0.28  0.34  0.4   0.46\n",
      "  0.52  0.58  0.64  0.7   0.76  0.82  0.88  0.94  1.  ]\n",
      "[ 4.10083261  4.75632474  4.16278839  4.94568077  4.9964461   3.67344585\n",
      "  4.07405522  4.12650853  5.25101279  5.69160283  5.06788376  6.07176274\n",
      "  5.76661215  5.76998646  5.39647832  5.46744837  5.46450349  7.23168494\n",
      "  6.09781368  7.0778812   7.05182585]\n"
     ]
    }
   ],
   "source": [
    "print(X_train)\n",
    "print(y_train)"
   ]
  },
  {
   "cell_type": "markdown",
   "metadata": {},
   "source": [
    "Найдите с помощью метода наименьших квадратов линейную функцию ($y = kx + b$), наилучшим образом приближающую неизвестную зависимость. Полезные функции: ``numpy.ones(n)`` для создания массива из единиц длины $n$ и ``numpy.concatenate((А, В), axis=1)`` для слияния двух матриц по столбцам (пара ``А`` и ``В`` превращается в матрицу ``[A B]``)."
   ]
  },
  {
   "cell_type": "code",
   "execution_count": 5,
   "metadata": {
    "collapsed": true
   },
   "outputs": [],
   "source": [
    "n = X_train.size\n",
    "X_train = X_train.reshape(1, n)\n",
    "X_test = X_test.reshape(1, n)\n",
    "X_tst = X_test.T\n",
    "Y_tst = (y_test.reshape(1, n)).T\n",
    "#y_train = y_train.reshape(1, n)\n",
    "B =  np.ones(n)\n",
    "B = B.reshape(1, n)\n",
    "X = X_train.T\n",
    "Y = (y_train.reshape(1, n)).T\n",
    "train = np.concatenate((X, B.T), axis = 1)"
   ]
  },
  {
   "cell_type": "code",
   "execution_count": 6,
   "metadata": {},
   "outputs": [
    {
     "data": {
      "image/png": "[encoded data removed]",
      "text/plain": [
       "<matplotlib.figure.Figure at 0x1145854a8>"
      ]
     },
     "metadata": {},
     "output_type": "display_data"
    }
   ],
   "source": [
    "mult = np.dot(train.T, train)\n",
    "inv_mult = sla.inv(mult)\n",
    "train_res = np.dot(np.dot(inv_mult, train.T), y_train)\n",
    "\n",
    "y_train_res = []\n",
    "\n",
    "a = train_res[0]\n",
    "b= train_res[1]\n",
    "\n",
    "def f(x):\n",
    "    return a * x + b\n",
    "\n",
    "X_train = X_train.reshape(n)\n",
    "y_train_res = f(X_train)\n",
    "\n",
    "#print(X_train.shape, y_train.shape)\n",
    "\n",
    "plt.plot(X_train, y_train, color='red', label='actual values')\n",
    "plt.plot(X_train, y_train_res, color='blue', label='pseudo solution')\n",
    "plt.title('Pseudo solution')\n",
    "plt.ylabel('y')\n",
    "plt.xlabel('x')\n",
    "plt.legend()\n",
    "plt.show()"
   ]
  },
  {
   "cell_type": "code",
   "execution_count": 7,
   "metadata": {},
   "outputs": [
    {
     "name": "stdout",
     "output_type": "stream",
     "text": [
      "2.27913449805\n",
      "4.43323090506\n"
     ]
    }
   ],
   "source": [
    "print(a)\n",
    "print(b)"
   ]
  },
  {
   "cell_type": "markdown",
   "metadata": {},
   "source": [
    "Нарисуйте на плоскости точки $(x_i, y_i)$ и полученную линейную функцию. Глядя на данные, подумайте, многочленом какой степени можно было бы лучше всего приблизить эту функцию. Найдите этот многочлен и нарисуйте его график."
   ]
  },
  {
   "cell_type": "markdown",
   "metadata": {},
   "source": [
    "Хотим получить многочлен степени n-1, проходящий через все точки. Получаем СЛУ:\n",
    "$$\\begin{pmatrix}\n",
    "x_{1}^{n-1} & x_{1}^{n-2} & \\ldots & x_{1} & 1\\\\\n",
    "x_{2}^{n-1} & x_{2}^{n-2} & \\ldots & x_{2} & 1\\\\\n",
    "\\dots & \\dots & \\dots & \\dots & \\dots\\\\\n",
    "x_{n}^{n-1} & x_{n}^{n-2} & \\ldots & x_{n} & 1 \\\\\n",
    "\\end{pmatrix} \\cdot\n",
    "\\begin{pmatrix}\n",
    "a_1 \\\\ a_2 \\\\ \\vdots \\\\ a_n\n",
    "\\end{pmatrix} = \n",
    "\\begin{pmatrix}\n",
    "y_1 \\\\ y_2 \\\\ \\vdots \\\\ y_n\n",
    "\\end{pmatrix}$$\n",
    "$Xa = y$\n",
    "\n",
    "$a = X^{-1}y$\n",
    "\n",
    "(polyfit делает именно это)"
   ]
  },
  {
   "cell_type": "code",
   "execution_count": 8,
   "metadata": {
    "scrolled": true
   },
   "outputs": [
    {
     "name": "stderr",
     "output_type": "stream",
     "text": [
      "/Users/arinaruck/anaconda3/lib/python3.6/site-packages/ipykernel_launcher.py:1: RankWarning: Polyfit may be poorly conditioned\n",
      "  \"\"\"Entry point for launching an IPython kernel.\n"
     ]
    },
    {
     "data": {
      "text/plain": [
       "(3, 8)"
      ]
     },
     "execution_count": 8,
     "metadata": {},
     "output_type": "execute_result"
    },
    {
     "data": {
      "image/png": "[encoded data removed]",
      "text/plain": [
       "<matplotlib.figure.Figure at 0x1104a22e8>"
      ]
     },
     "metadata": {},
     "output_type": "display_data"
    }
   ],
   "source": [
    "p = np.polyfit(X_train, y_train, n-1);\n",
    "x1 = np.linspace(-0.3, 1.5);\n",
    "y1 = np.polyval(p,x1);\n",
    "plt.plot(x1, y1)\n",
    "plt.figure\n",
    "plt.plot(X_train, y_train,'*')\n",
    "plt.ylim([3, 8])"
   ]
  },
  {
   "cell_type": "markdown",
   "metadata": {},
   "source": [
    "### Я сделала это еще раз своими функциями ниже, чтобы не переносить все блоки (под красивым графиком)"
   ]
  },
  {
   "cell_type": "markdown",
   "metadata": {},
   "source": [
    "Для $k = 1,2,3,\\ldots,10$ найдите многочлен $\\hat{f}_k$ степени $k$, наилучшим образом приближающий неизвестную зависимость. Для каждого из них найдите среднеквадратическую ошибку на обучающих данных и на тестовых данных: $\\frac1{n}\\sum_{i=1}^n\\left( \\hat{f}_k(x_i) - y_i \\right)^2$ (в первом случае сумма ведётся по парам $(x_i, y_i)$ из обучающих данных, а во втором - по парам из тестовых данных).\n",
    "\n",
    "Для $k = 1,2,3,4,6$ напечатайте коэффициенты полученных многочленов и нарисуйте их графики на одном чертеже вместе с точками $(x_i, y_i)$ (возможно, график стоит сделать побольше; это делается командой `plt.figure(figsize=(width, height))`)."
   ]
  },
  {
   "cell_type": "code",
   "execution_count": 9,
   "metadata": {
    "collapsed": true
   },
   "outputs": [],
   "source": [
    "def make_matrix(k, X):\n",
    "    cur = np.copy(X)\n",
    "    res = np.copy(train)\n",
    "    n = X.shape[0]\n",
    "    for i in range(k-1):\n",
    "        for j in range(n):\n",
    "            cur[j] = cur[j] * X[j]\n",
    "        res = np.concatenate((cur, res), axis = 1)\n",
    "        #print(res)\n",
    "    #print(res.shape)    \n",
    "    return res\n",
    "#print(X)                             \n",
    "#make_matrix(1)\n",
    "#make_matrix(2)\n",
    "#make_matrix(3)\n",
    "#print(X)"
   ]
  },
  {
   "cell_type": "code",
   "execution_count": 10,
   "metadata": {
    "collapsed": true
   },
   "outputs": [],
   "source": [
    "def get_coefficients(mtx):\n",
    "    mult = np.dot(mtx.T, mtx)\n",
    "    inv_mult = sla.inv(mult)\n",
    "    train_res = np.dot(np.dot(inv_mult, mtx.T), y_train)\n",
    "    return train_res  "
   ]
  },
  {
   "cell_type": "code",
   "execution_count": 11,
   "metadata": {
    "collapsed": true
   },
   "outputs": [],
   "source": [
    "def updated_f(x):\n",
    "    cur = 1\n",
    "    res = 0\n",
    "    for c in coefficients[-1::-1]:\n",
    "        res += c * cur\n",
    "        cur *= x\n",
    "    return res    "
   ]
  },
  {
   "cell_type": "code",
   "execution_count": 12,
   "metadata": {
    "collapsed": true
   },
   "outputs": [],
   "source": [
    "def get_error(X, Y):\n",
    "    X_c = np.copy(X)\n",
    "    Y_c = np.copy(Y)\n",
    "    #print(X.shape)\n",
    "    n = X.shape[0]\n",
    "    sum = 0\n",
    "    for i in range(n):\n",
    "        sum += (updated_f(X_c[i]) - Y_c[i])**2\n",
    "    return sum/n   \n"
   ]
  },
  {
   "cell_type": "code",
   "execution_count": 13,
   "metadata": {},
   "outputs": [
    {
     "name": "stdout",
     "output_type": "stream",
     "text": [
      "mean square error:\n",
      "k =  1 : \n",
      "test:\t [ 0.4351202]\n",
      "train:\t [ 0.29689663]\n",
      "mean square error:\n",
      "k =  2 : \n",
      "test:\t [ 0.35647629]\n",
      "train:\t [ 0.26969892]\n",
      "mean square error:\n",
      "k =  3 : \n",
      "test:\t [ 0.35534646]\n",
      "train:\t [ 0.26949719]\n",
      "mean square error:\n",
      "k =  4 : \n",
      "test:\t [ 0.44172702]\n",
      "train:\t [ 0.26106653]\n",
      "mean square error:\n",
      "k =  5 : \n",
      "test:\t [ 0.5579732]\n",
      "train:\t [ 0.24998505]\n",
      "mean square error:\n",
      "k =  6 : \n",
      "test:\t [ 2.58169293]\n",
      "train:\t [ 0.18829349]\n",
      "mean square error:\n",
      "k =  7 : \n",
      "test:\t [ 2.51578289]\n",
      "train:\t [ 0.18539621]\n",
      "mean square error:\n",
      "k =  8 : \n",
      "test:\t [ 4.35728742]\n",
      "train:\t [ 0.15905557]\n",
      "mean square error:\n",
      "k =  9 : \n",
      "test:\t [ 4.77629505]\n",
      "train:\t [ 0.15847184]\n",
      "mean square error:\n",
      "k =  10 : \n",
      "test:\t [ 14.63350644]\n",
      "train:\t [ 0.15316612]\n"
     ]
    }
   ],
   "source": [
    "for k in range(1, 11):\n",
    "    print(\"mean square error:\")\n",
    "    print(\"k = \", k, \": \")\n",
    "    train_mtx = make_matrix(k, X)\n",
    "    coefficients = get_coefficients(train_mtx)\n",
    "    print(\"test:\\t\", get_error(X_tst, Y_tst))\n",
    "    print(\"train:\\t\", get_error(X, Y))"
   ]
  },
  {
   "cell_type": "code",
   "execution_count": 14,
   "metadata": {},
   "outputs": [
    {
     "data": {
      "image/png": "[encoded data removed]",
      "text/plain": [
       "<matplotlib.figure.Figure at 0x61ce92940>"
      ]
     },
     "metadata": {},
     "output_type": "display_data"
    }
   ],
   "source": [
    "plt.figure(figsize=(12, 12))\n",
    "plt.ylim([3.5, 8])\n",
    "for k in {1, 2, 3, 4, 6}:\n",
    "    mtx = make_matrix(k, X)\n",
    "    coefficients = get_coefficients(mtx)\n",
    "    x = np.linspace(-0.3, 1.25);\n",
    "    y = updated_f(x1);\n",
    "    plt.plot(x, y, color=str(0.1 * k), label=\"dim = \" + str(k))\n",
    "\n",
    "plt.plot(X_train, y_train, color='red', label='actual values')\n",
    "plt.ylabel('y')\n",
    "plt.xlabel('x')\n",
    "plt.legend()\n",
    "plt.show()\n",
    "\n",
    "    "
   ]
  },
  {
   "cell_type": "markdown",
   "metadata": {},
   "source": [
    "### Нахожу решение, проходящее через все точки\n",
    "Многочлен степени 20"
   ]
  },
  {
   "cell_type": "code",
   "execution_count": 29,
   "metadata": {},
   "outputs": [
    {
     "name": "stdout",
     "output_type": "stream",
     "text": [
      "(21, 21)\n"
     ]
    },
    {
     "data": {
      "image/png": "[encoded data removed]",
      "text/plain": [
       "<matplotlib.figure.Figure at 0x61de578d0>"
      ]
     },
     "metadata": {},
     "output_type": "display_data"
    }
   ],
   "source": [
    "#plt.figure(figsize=(12, 12))\n",
    "plt.ylim([3.5, 8])\n",
    "\n",
    "mtx = make_matrix(20, X)\n",
    "print(mtx.shape)\n",
    "coefficients = np.dot(sla.inv(mtx), y_train) \n",
    "x = np.linspace(-0.3, 1.25);\n",
    "y = updated_f(x);\n",
    "plt.plot(x, y, color='red', label='dim = 20')\n",
    "plt.plot(X_train, y_train,'*', color = 'black')\n",
    "plt.ylabel('y')\n",
    "plt.xlabel('x')\n",
    "plt.legend()\n",
    "plt.show()"
   ]
  },
  {
   "cell_type": "markdown",
   "metadata": {},
   "source": [
    "Что происходит с ошибкой при росте степени многочлена? Казалось бы, чем больше степень, тем более сложным будет многочлен и тем лучше он будет приближать нашу функцию. Подтверждают ли это ваши наблюдения? Как вам кажется, чем объясняется поведение ошибки на тестовых данных при $k = 10$?"
   ]
  },
  {
   "cell_type": "markdown",
   "metadata": {
    "collapsed": true
   },
   "source": [
    "Понятно, что при увеличении степени многочлена, уменьшается среднее квадратичное отклонение для обучающих данных, так как для многочлена \n",
    "степени k у нас есть (k+1) переменная  через которые мы хотим выразить \"объясняемую переменную\". То есть, с увеличением k,\n",
    "мы все сильнее приближаемся к обучаемым данным $\\implies$ для них уменьшается среднее квадратичное отклонение. \n",
    "При этом обучающие данные являются зашумленными (если мы ищем псевдорешение, то есть нет строгой линейной или k-ичной зависимости)\n",
    "то есть с ростом степени многочлена они становятся все ближе к зашумленным данным, но не обязательно ближе к тестовым.\n",
    "Можем заметить, что наиболее точное приближение к тестовым данным дает многочлен степени 3. Далее среднее квадратичное отклонение для тестовых данных возрастает, что означает переобучение."
   ]
  },
  {
   "cell_type": "markdown",
   "metadata": {},
   "source": [
    "### Задание 2. Линейная регрессия (4 балла)"
   ]
  },
  {
   "cell_type": "markdown",
   "metadata": {},
   "source": [
    "Скачайте файлы ``flats_moscow_mod.txt`` и ``flats_moscow_description.txt``. В первом из них содержатся данные о квартирах в Москве. Каждая строка содержит шесть характеристик некоторой квартиры, разделённые знаками табуляции; в первой строке записаны кодовые названия характеристик. Во втором файле приведены краткие описания признаков. Вашей задачей будет построить с помощью метода наименьших квадратов (линейную) зависимость между ценой квартиры и остальными доступными параметрами.\n",
    "\n",
    "С помощью известных вам формул найдите регрессионные коэффициенты. Какой смысл имеют их знаки? Согласуются ли они с вашими представлениями о жизни?\n",
    "\n",
    "Оцените качество приближения, вычислив среднеквадратическую ошибку."
   ]
  },
  {
   "cell_type": "code",
   "execution_count": 21,
   "metadata": {},
   "outputs": [
    {
     "name": "stdout",
     "output_type": "stream",
     "text": [
      "(6, 6)\n",
      "(2040,)\n",
      "924.009003208\n",
      "[  1.48705289   1.656289     1.81920498  -3.32715406  -1.3156886\n",
      " -26.78926963]\n"
     ]
    }
   ],
   "source": [
    "data = np.genfromtxt('/Users/arinaruck/Downloads/flats_moscow_mod.txt', delimiter='\\t', skip_header=1, dtype=float)\n",
    "\n",
    "prices = data[:, 0]\n",
    "\n",
    "mtx = data[:, 1 :]\n",
    "\n",
    "n = mtx.shape[0]\n",
    "B =  np.ones(n)\n",
    "B = B.reshape(1, n)\n",
    "mtx = np.concatenate((mtx, B.T), axis = 1)\n",
    "\n",
    "def solve(mtx, prices):\n",
    "    mult = np.dot(mtx.T, mtx)\n",
    "    print(mult.shape)\n",
    "    print(prices.shape)\n",
    "    inv_mult = sla.inv(mult)\n",
    "    coeffs = np.dot(np.dot(inv_mult, mtx.T), prices)\n",
    "    return coeffs\n",
    "\n",
    "coefficients = solve(mtx, prices)\n",
    "\n",
    "def new_f(X):\n",
    "    sum = 0\n",
    "    for i in range(X.size):\n",
    "        sum += X[i]*coefficients[i]\n",
    "    return sum\n",
    "\n",
    "def error(X, Y):\n",
    "    X_c = np.copy(X)\n",
    "    Y_c = np.copy(Y)\n",
    "    n = Y_c.size\n",
    "    sum = 0\n",
    "    for i in range(n):\n",
    "        sum += (new_f(X_c[i]) - Y_c[i])**2\n",
    "        #print(sum)\n",
    "    return sum/n   \n",
    "\n",
    "\n",
    "print(error(mtx, prices))\n",
    "print(coefficients)\n"
   ]
  },
  {
   "cell_type": "markdown",
   "metadata": {},
   "source": [
    "Коэффициенты, имеющие положительный знак, факторы, которые влияют на увеличение цены, то есть достоинства квартиры, а отрицательные, влияющие на ее снижение, то есть недостатки. Это сходится с представлениями о жизни. (Чем дальше квартира от центра dist, или от метро metrdist, тем она дешевле (если остальные факторы неизменны))"
   ]
  },
  {
   "cell_type": "markdown",
   "metadata": {
    "collapsed": true
   },
   "source": [
    "### Усложнение модели"
   ]
  },
  {
   "cell_type": "markdown",
   "metadata": {},
   "source": [
    "Конечно, никто не гарантирует, что объясняемая переменная (цена квартиры) зависит от остальных характеристик именно линейно. Зависимость может быть, например, квадратичной или логарифмической; больше того, могут быть важны не только отдельные признаки, но и их комбинации. Это можно учитывать, добавляя в качестве дополнительных признаков разные функции от уже имеющихся характеристик: их квадраты, логарифмы, попарные произведения.\n",
    "\n",
    "В этом задании вам нужно постараться улучшить качество модели, добавляя дополнительные признаки, являющиеся функциями от уже имеющихся. Но будьте осторожны: чрезмерное усложнение модели будет приводить к переобучению. \n",
    "\n",
    "**Сравнение моделей**\n",
    "\n",
    "Когда вы построите новую модель, вам захочется понять, лучше она или хуже, чем изначальная. Проверять это на той же выборке, на которой вы обучались, бессмысленно и даже вредно (вспомните пример с многочленами: как прекрасно падала ошибка на обучающей выборке с ростом степени!). Поэтому вам нужно будет разделить выборку на обучающую и тестовую. Делать это лучше случайным образом (ведь вы не знаете, как создатели датасета упорядочили объекты); рекомендуем вам для этого функцию `sklearn.model_selection.train_test_split`."
   ]
  },
  {
   "cell_type": "code",
   "execution_count": 24,
   "metadata": {},
   "outputs": [
    {
     "name": "stdout",
     "output_type": "stream",
     "text": [
      "(8, 8)\n",
      "(1366,)\n",
      "606.71530221\n"
     ]
    }
   ],
   "source": [
    "import sklearn as sk\n",
    "from sklearn.model_selection import train_test_split\n",
    "X_train, X_test, y_train, y_test = train_test_split(mtx, prices, test_size=0.33, random_state=29)\n",
    "\n",
    "\n",
    "def get_pow(F, k):\n",
    "    n = F.size \n",
    "    F = F.reshape(1, n)\n",
    "    #print(F.shape)\n",
    "    NF = np.copy(F)\n",
    "    NF = NF**k;\n",
    "    return NF.T\n",
    "\n",
    "\n",
    "totsp = X_train.T[0]\n",
    "livsp = X_train.T[1]\n",
    "kitsp = X_train.T[2]\n",
    "dist = X_train.T[3]\n",
    "metrdist = X_train.T[4]\n",
    "#print(X_train.shape)\n",
    "#print(get_sqr(livsp).shape)\n",
    "n = totsp.size\n",
    "\n",
    "\n",
    "totsp_pow = get_pow(totsp, 2).reshape(n, 1)\n",
    "sp_pow_8 = get_pow(livsp, 8).reshape(n, 1)\n",
    "sp_pow_5 = get_pow(livsp, 5).reshape(n, 1)\n",
    "kitsp_pow = get_pow(kitsp, 2).reshape(n, 1)\n",
    "dist_pow = get_pow(dist, 2).reshape(n, 1)\n",
    "metrdist_pow = get_pow(metrdist, 2).reshape(n, 1)\n",
    "\n",
    "X_train = np.concatenate((sp_pow_8, X_train), axis = 1) \n",
    "X_train = np.concatenate((sp_pow_5, X_train), axis = 1)\n",
    "#X_train = np.concatenate((totsp_pow, X_train), axis = 1) \n",
    "#print(X_train)\n",
    "#X_train = np.concatenate((kitsp_pow, X_train), axis = 1) \n",
    "#print(X_train)\n",
    "#X_train = np.concatenate((dist_pow, X_train), axis = 1) \n",
    "#X_train = np.concatenate((metrdist_pow, X_train), axis = 1) \n",
    "#print(X_train)\n",
    "coefficients = solve(X_train, y_train)\n",
    "#print(X_train)\n",
    "\n",
    "totsp_tst = X_test.T[0]\n",
    "livsp_tst = X_test.T[1]\n",
    "kitsp_tst = X_test.T[2]\n",
    "dist_tst = X_test.T[3]\n",
    "metrdist_tst = X_test.T[4]\n",
    "\n",
    "m = totsp_tst.size\n",
    "totsp_tst_pow = get_pow(totsp_tst, 2).reshape(m, 1)\n",
    "sp_tst_pow_8 = get_pow(livsp_tst, 8).reshape(m, 1)\n",
    "sp_tst_pow_5 = get_pow(livsp_tst, 5).reshape(m, 1)\n",
    "kitsp_tst_pow = get_pow(kitsp_tst, 2).reshape(m, 1)\n",
    "dist_tst_pow = get_pow(dist_tst, 2).reshape(m, 1)\n",
    "metrdist_tst_pow = get_pow(metrdist_tst, 2).reshape(m, 1)\n",
    "\n",
    "X_test = np.concatenate((sp_tst_pow_8, X_test), axis = 1) \n",
    "X_test = np.concatenate((sp_tst_pow_5, X_test), axis = 1)\n",
    "#X_test = np.concatenate((totsp_tst_pow, X_test), axis = 1) \n",
    "#X_test = np.concatenate((kitsp_tst_pow, X_test), axis = 1) \n",
    "#X_test = np.concatenate((dist_tst_pow, X_test), axis = 1) \n",
    "#X_test = np.concatenate((metrdist_tst_pow, X_test), axis = 1) \n",
    "\n",
    "\n",
    "#print(coefficients)\n",
    "#print(X_test)\n",
    "print(error(X_test, y_test))\n",
    "#print(X_train.shape)"
   ]
  },
  {
   "cell_type": "markdown",
   "metadata": {},
   "source": [
    "### Задание 3. Регуляризация (2 балла)"
   ]
  },
  {
   "cell_type": "markdown",
   "metadata": {},
   "source": [
    "Вспомним, что задача линейной регрессии формулируется как задача нахождения проекции вектора значений объясняемой переменной $y$ на линейную оболочку $\\langle x_1,\\ldots,x_k\\rangle$ векторов значений регрессоров. Если векторы $x_1,\\ldots,x_k$ линейно зависимы, то матрица $X^TX$ вырожденна и задача не будет решаться (то есть будет, но не с помощью приведённой выше формулы). В жизни, по счастью, различные признаки редко бывают *в точности* линейно зависимы, однако во многих ситуациях они скоррелированы и становятся \"почти\" линейно зависимыми. Таковы, к примеру, зарплата человека, его уровень образования, цена машины и суммарная площадь недвижимости, которой он владеет. В этом случае матрица $X^TX$ будет близка к вырожденной, и это приводит к численной неустойчивости и плохому качеству решений; как следствие, будет иметь место переобучение. Один из симптомов этой проблемы - необычно большие по модулю компоненты вектора $a$.\n",
    "\n",
    "Есть много способов борьбы с этим злом. Один из них - регуляризация. Сейчас мы рассмотрим одну из её разновидностей --- **L2-регуляризацию**. Идея в том, чтобы подправить матрицу $X^TX$, сделав её \"получше\". Например, это можно сделать, заменив её на $(X^TX + \\lambda E)$, где $\\lambda$ --- некоторый скаляр. Пожертвовав точностью на обучающей выборке, мы тем не менее получаем численно более стабильное псевдорешение $a = (X^TX + \\lambda E)^{-1}X^Ty$ и снижаем эффект переобучения. Параметр $\\lambda$ нужно подбирать, и каких-то универсальных способов это делать нет, но зачастую можно его подобрать таким, чтобы ошибка на тестовой выборке падала. "
   ]
  },
  {
   "cell_type": "markdown",
   "metadata": {},
   "source": [
    "Теперь давайте вспомним первую задачу. Если вы её сделали, то помните, что ошибка аппроксимации многочленом шестой степени довольно высокая. Убедитесь, что, используя регуляризацию с хорошо подобранным коэффициентом $\\lambda$, ошибку на тестовой выборке можно сделать не больше, чем для многочлена оптимальной степени в модели без регрессии. Для этого $\\lambda$ сравните $\\det(X^TX)$ и $\\det(X^TX + \\lambda E)$."
   ]
  },
  {
   "cell_type": "code",
   "execution_count": 25,
   "metadata": {},
   "outputs": [],
   "source": [
    "data_train = np.loadtxt('/Users/arinaruck/Downloads/train.txt', delimiter=',')\n",
    "data_test = np.loadtxt('/Users/arinaruck/Downloads/test.txt', delimiter=',')\n",
    "\n",
    "X_train = data_train[:, 0]\n",
    "y_train = data_train[:, 1]\n",
    "\n",
    "X_tr = np.copy(X_train)\n",
    "y_tr = np.copy(y_train)\n",
    "\n",
    "X_test = data_test[:, 0]\n",
    "y_test = data_test[:, 1]\n",
    "\n",
    "n = X_train.size\n",
    "X_train = X_train.reshape(1, n)\n",
    "X = X_train.T\n"
   ]
  },
  {
   "cell_type": "code",
   "execution_count": 26,
   "metadata": {
    "collapsed": true
   },
   "outputs": [],
   "source": [
    "def get_coeffs(mtx, l):\n",
    "    mult = np.dot(mtx.T, mtx)\n",
    "    n = mult.shape[0]\n",
    "    E = np.identity(n)\n",
    "    inv_mult = sla.inv(mult +(E*l))\n",
    "    train_res = np.dot(np.dot(inv_mult, mtx.T), y_train)\n",
    "    return train_res  "
   ]
  },
  {
   "cell_type": "code",
   "execution_count": 27,
   "metadata": {},
   "outputs": [
    {
     "name": "stdout",
     "output_type": "stream",
     "text": [
      "k: 0.3 \n",
      "\n",
      "test:\t 0.336794946615\n",
      "train:\t 0.275328773855\n",
      "\n",
      "\n",
      "k: 0.4 \n",
      "\n",
      "test:\t 0.329838999396\n",
      "train:\t 0.279139090593\n",
      "\n",
      "\n",
      "k: 0.5 \n",
      "\n",
      "test:\t 0.323960951196\n",
      "train:\t 0.283846139998\n",
      "\n",
      "\n",
      "k: 0.6 \n",
      "\n",
      "test:\t 0.319070902364\n",
      "train:\t 0.289416827972\n",
      "\n",
      "\n",
      "k: 0.7 \n",
      "\n",
      "test:\t 0.315102581202\n",
      "train:\t 0.295814311394\n",
      "\n",
      "\n",
      "k: 0.8 \n",
      "\n",
      "test:\t 0.312001719355\n",
      "train:\t 0.303002147237\n",
      "\n",
      "\n",
      "k: 0.9 \n",
      "\n",
      "test:\t 0.309721416966\n",
      "train:\t 0.310945427454\n",
      "\n",
      "\n",
      "k: 1.0 \n",
      "\n",
      "test:\t 0.308219923571\n",
      "train:\t 0.31961107399\n",
      "\n",
      "\n",
      "k: 1.1 \n",
      "\n",
      "test:\t 0.307459422122\n",
      "train:\t 0.328967863362\n",
      "\n",
      "\n",
      "k: 1.2 \n",
      "\n",
      "test:\t 0.307405287207\n",
      "train:\t 0.338986358147\n",
      "\n",
      "\n",
      "k: 1.3 \n",
      "\n",
      "test:\t 0.308025590645\n",
      "train:\t 0.349638807373\n",
      "\n",
      "\n",
      "k: 1.4 \n",
      "\n",
      "test:\t 0.309290746911\n",
      "train:\t 0.360899039197\n",
      "\n",
      "\n",
      "k: 1.5 \n",
      "\n",
      "test:\t 0.311173243267\n",
      "train:\t 0.372742355071\n",
      "\n",
      "\n",
      "k: 1.6 \n",
      "\n",
      "test:\t 0.313647424495\n",
      "train:\t 0.385145428971\n",
      "\n",
      "\n",
      "k: 1.7 \n",
      "\n",
      "test:\t 0.316689314876\n",
      "train:\t 0.398086212975\n",
      "\n",
      "\n",
      "k: 1.8 \n",
      "\n",
      "test:\t 0.320276466922\n",
      "train:\t 0.411543849457\n",
      "\n",
      "\n",
      "k: 1.9 \n",
      "\n",
      "test:\t 0.324387830224\n",
      "train:\t 0.425498589733\n",
      "\n",
      "\n",
      "k: 2.0 \n",
      "\n",
      "test:\t 0.329003636031\n",
      "train:\t 0.439931718822\n",
      "\n",
      "\n",
      "k: 2.1 \n",
      "\n",
      "test:\t 0.334105294559\n",
      "train:\t 0.454825485923\n",
      "\n",
      "\n",
      "k: 2.2 \n",
      "\n",
      "test:\t 0.339675302865\n",
      "train:\t 0.470163040176\n",
      "\n",
      "\n",
      "k: 2.3 \n",
      "\n",
      "test:\t 0.345697161703\n",
      "train:\t 0.485928371305\n",
      "\n",
      "\n",
      "k: 2.4 \n",
      "\n",
      "test:\t 0.352155300128\n",
      "train:\t 0.502106254761\n",
      "\n",
      "\n",
      "k: 2.5 \n",
      "\n",
      "test:\t 0.359035006887\n",
      "train:\t 0.518682200988\n",
      "\n",
      "\n",
      "k: 2.6 \n",
      "\n",
      "test:\t 0.366322367799\n",
      "train:\t 0.535642408495\n",
      "\n",
      "\n",
      "k: 2.7 \n",
      "\n",
      "test:\t 0.374004208489\n",
      "train:\t 0.552973720417\n",
      "\n",
      "\n",
      "k: 2.8 \n",
      "\n",
      "test:\t 0.382068041898\n",
      "train:\t 0.57066358428\n",
      "\n",
      "\n",
      "k: 2.9 \n",
      "\n",
      "test:\t 0.390502020122\n",
      "train:\t 0.588700014718\n",
      "\n",
      "\n"
     ]
    }
   ],
   "source": [
    "train_mtx = make_matrix(6, X)\n",
    "for k in range(3, 30, 1):\n",
    "    coefficients = get_coeffs(train_mtx, k/10)\n",
    "    print(\"k:\", k/10, \"\\n\")\n",
    "    print(\"test:\\t\", get_error(X_test, y_test))\n",
    "    print(\"train:\\t\", get_error(X_tr, y_tr))\n",
    "    print(\"\\n\")"
   ]
  },
  {
   "cell_type": "markdown",
   "metadata": {},
   "source": [
    "При k = 1.8 можем заметить, что ошибка на тестовых данных становится меньше оптимальной"
   ]
  },
  {
   "cell_type": "code",
   "execution_count": 28,
   "metadata": {},
   "outputs": [
    {
     "name": "stdout",
     "output_type": "stream",
     "text": [
      "9.082864838853953e-12\n",
      "8477.470122242335\n"
     ]
    }
   ],
   "source": [
    "n = train_mtx.shape[1]\n",
    "E = np.identity(n)\n",
    "\n",
    "print(sla.det(np.dot(train_mtx.T, train_mtx)))\n",
    "print(sla.det(np.dot(train_mtx.T, train_mtx) + 1.8*E))"
   ]
  },
  {
   "cell_type": "markdown",
   "metadata": {},
   "source": [
    "Нарисуйте на одном чертеже графики многочленов шестой степени, приближающих неизвестную функцию, для модели с регуляризацией и без. Чем первый из них выгодно отличается от второго?"
   ]
  },
  {
   "cell_type": "code",
   "execution_count": 31,
   "metadata": {},
   "outputs": [
    {
     "data": {
      "image/png": "[encoded data removed]",
      "text/plain": [
       "<matplotlib.figure.Figure at 0x1a14594c18>"
      ]
     },
     "metadata": {},
     "output_type": "display_data"
    }
   ],
   "source": [
    "coefficients = get_coefficients(train_mtx)\n",
    "x = np.linspace(-0.3, 1);\n",
    "y = updated_f(x);\n",
    "coefficients = get_coeffs(train_mtx, 1.8)\n",
    "y_1 = updated_f(x);\n",
    "plt.ylim([3.5, 8])\n",
    "plt.plot(x, y, color=\"black\", label=\"not regulated\")\n",
    "plt.plot(x, y_1, color=\"red\", label=\"regulated\")\n",
    "plt.ylabel('y')\n",
    "plt.xlabel('x')\n",
    "plt.legend()\n",
    "plt.show()"
   ]
  },
  {
   "cell_type": "markdown",
   "metadata": {},
   "source": [
    "Попробуйте доказать, что вектор $a = (X^TX + \\lambda E)^{-1}X^Ty$ является решением задачи\n",
    "\n",
    "$$|Xa - y|^2 + \\lambda|a|^2\\rightarrow\\min$$\n",
    "\n",
    "Интуитивно это можно понимать так: мы ищем компромисс между минимизацией длины разности $|Xa - y|$ (то есть точностью решения задачи регрессии) и тем, чтобы компоненты вектора $a$ не становились слишком большими по модулю.\n",
    "\n",
    "---\n",
    "\n",
    "**Ваше решение напишите прямо здесь**"
   ]
  },
  {
   "cell_type": "markdown",
   "metadata": {},
   "source": [
    "### Задание 4. Онлайн-обучение линейной регрессии (до 5 баллов)"
   ]
  },
  {
   "cell_type": "markdown",
   "metadata": {},
   "source": [
    "Раньше мы работали в ситуации, когда объекты $x_i$ и значения $y_i$ даны с самого начала и всегда доступны. Допустим теперь, что пары $(x_i, y_i)$ поступают к нам по одной, и мы не можем себе позволить хранить их все в памяти (это может быть актуально, например, если вы пытаетесь обучить модель на устройстве со сравнительно небольшим количеством оперативной памяти: скажем, на мобильном телефоне или на бортовом компьютере спутника связи). В этом случае нам нужно уметь решать следующую задачу:\n",
    "\n",
    "**Известно:** решение задачи регрессии для датасета $(x_1, y_1),\\ldots,(x_t,y_t)$;\n",
    "\n",
    "**На вход поступает:** новая пара $(x_{t+1}, y_{t+1})$;\n",
    "\n",
    "**Требуется:** быстро (за время, не зависящее от $t$) отыскать решение задачи регрессии для расширенного датасета $(x_1, y_1),\\ldots,(x_t,y_t),(x_{t+1}, y_{t+1})$."
   ]
  },
  {
   "cell_type": "markdown",
   "metadata": {},
   "source": [
    "Эту задачу мы будем решать в два этапа.\n",
    "\n",
    "**Этап 1.** Обозначим $X_{(t)} = (x_1\\ldots x_t)$ и $y_{(t)} = (y_1,\\ldots,y_t)^T$. Тогда, как мы хорошо помним, решение задачи регрессии для датасета $(x_1, y_1),\\ldots,(x_t,y_t)$ имеет вид $\\hat{a}_{(t)} = \\left(X^T_{(t)}X_{(t)}\\right)^{-1}X^T_{(t)}y_{(t)}$. Размеры матриц $X^T_{(t)}X_{(t)}$ и $X^T_{(t)}y_{(t)}$ не зависят от $t$, поэтому их мы, пожалуй, можем себе позволить хранить в памяти.\n",
    "\n",
    "И вот ваше первое задание в этом разделе: придумайте алгоритм, принимающий на вход матрицы $X^T_{(t)}X_{(t)}$ и $X^T_{(t)}y_{(t)}$, а также пару $(x_{t+1}, y_{t+1})$ и вычисляющий матрицы $X^T_{(t+1)}X_{(t+1)}$ и $X^T_{(t+1)}y_{(t+1)}$. Сложность вашего алгоритма не должна зависеть от $t$!\n",
    "\n",
    "--\n"
   ]
  },
  {
   "cell_type": "markdown",
   "metadata": {},
   "source": [
    "Пусть размер вектора $x_t$ n\n",
    "\n",
    "$X_{(t)}$ содержит $x_i$ в строках (иначе неверно было бы, что размер X^T X не зависит от t)\n",
    "\n",
    "Тогда рассмотрим $X_{(t)}$:\n",
    "    \n",
    "\\begin{pmatrix}\n",
    "x_{11} & x_{12} & \\ldots & x_{1n}\\\\\n",
    "x_{21} & x_{22} & \\ldots & x_{2n} \\\\\n",
    "\\dots & \\dots & \\dots & \\dots & \\\\\n",
    "x_{t1} & x_{t2} & \\ldots & x_{tn}\\\\\n",
    "\\end{pmatrix} \n",
    "$X_{(t)}^TX_{(t)} \\in Mat_{n \\times n}$\n"
   ]
  },
  {
   "cell_type": "markdown",
   "metadata": {},
   "source": [
    "Пусть $X_{(t)}^TX_{(t)}$ = A\n",
    "\n",
    "$A_{ij} = \\sum_{k=0}^{t}X_{ik}^TX_{kj}$\n",
    "\n",
    "Значит для $X_{(t+1)}^TX_{(t+1)}$\n",
    "\n",
    "В каждую ячейку добавляется по одному слагаемому (сумма до t+1, а не до t)\n",
    "\n",
    "То есть необходимо сделать $n^2$ операций (не зависит от t)\n",
    "\n",
    "Например\n",
    "\n",
    "$x_1$ = (1, 2)\n",
    "\n",
    "$x_2$ = (3, 4)\n",
    "\n",
    "X = \n",
    "\\begin{pmatrix}\n",
    "1 & 2\\\\\n",
    "3 & 4\\\\\n",
    "\\end{pmatrix} \n",
    "\n",
    "$X^T$ = \n",
    "\\begin{pmatrix}\n",
    "1 & 3\\\\\n",
    "2 & 4\\\\\n",
    "\\end{pmatrix} \n",
    "\n",
    "$X^TX$ =\n",
    "\\begin{pmatrix}\n",
    "10 & 14\\\\\n",
    "14 & 20\\\n",
    "\\end{pmatrix} \n",
    "\n",
    "Добавляем $x_3 = (5 6)$\n",
    "\n",
    "\n",
    "X = \n",
    "\\begin{pmatrix}\n",
    "1 & 2\\\\\n",
    "3 & 4\\\\\n",
    "5 & 6 \\\\\n",
    "\\end{pmatrix} \n",
    "\n",
    "$X^T$ = \n",
    "\\begin{pmatrix}\n",
    "1 & 3 & 5\\\\\n",
    "2 & 4 & 6\\\\\n",
    "\\end{pmatrix} \n",
    "\n",
    "$X^TX$ =\n",
    "\\begin{pmatrix}\n",
    "10 + 5*5 & 14 + 5 * 6\\\\\n",
    "14 + 5*6 & 20 + 6*6\\\\\n",
    "\\end{pmatrix}  =\n",
    "\\begin{pmatrix}\n",
    "35 & 44\\\\\n",
    "44 & 56\\\\\n",
    "\\end{pmatrix} \n",
    "\n",
    "\n",
    "Аналогично для $X_{(t)}^Ty_{(t)}$  размер $n \\times 1$\n",
    "\n",
    "Добавляется n слагаемых вида $X_{it}^{T}\\cdot y_t$\n"
   ]
  },
  {
   "cell_type": "markdown",
   "metadata": {},
   "source": [
    "**Этап 2.** Итак, мы научились пересчитывать регрессионные коэффициенты за время, не зависящее от размеров датасета. Это уже, в общем-то большая победа, но нам этого мало! Нам по-прежнему приходится каждый раз обращать матрицу $X^T_{(t)}X_{(t)}$. Если у каждого объекта $x_i$ имеется $m$ признаков, то на это требуется $O(m^3)$ операций - чертовски много! Кажется, что можно это делать гораздо быстрее.\n",
    "\n",
    "Попробуйте придумать алгоритм, который позволял бы пересчитывать $\\hat{a}$ за $O(m^2)$ операций. В этом вам может помочь QR-разложение (см. добавление в самом конце лабораторной). Возможно, вы также решите, что вместо матриц $X^T_{(t)}X_{(t)}$ и $X^T_{(t)}y_{(t)}$ стоит хранить что-то другое.\n",
    "\n",
    "--\n",
    "\n",
    "**Описание вашего алгоритма напишите прямо здесь**"
   ]
  },
  {
   "cell_type": "markdown",
   "metadata": {},
   "source": [
    "Теперь настало время написать немного кода и порисовать красивые картинки. Вам нужно будет реализовать симуляцию онлайн-обучения регрессии для задачи приближения функции (в данном случае $f_{true}(x) = 2x\\sin(x) + x^2 - 1$; все значения искажены небольшим нормальным шумом) многочленом степени не выше 5.\n",
    "\n",
    "**Замечание** Если у вас не получилось придумать алгоритм в предыдущем пункте, вы можете просто найти библиотечную функцию, которая делает то, что вам надо (правда, за это вы получите несколько меньше баллов) или даже плюнуть на всё и использовать алгоритм, требующий $O(m^3)$ операций на каждой итерации (но баллов будет ещё меньше). "
   ]
  },
  {
   "cell_type": "code",
   "execution_count": null,
   "metadata": {
    "collapsed": true
   },
   "outputs": [],
   "source": [
    "from IPython.display import clear_output\n",
    "\n",
    "f_true = lambda x: 2*x*np.sin(5*x) + x**2 - 1 # this is the true function\n",
    "\n",
    "# We need this to make the plot of f_true:\n",
    "x_grid = np.linspace(-2,5,100) # 100 linearly spaced numbers\n",
    "x_grid_enl = np.hstack((x_grid.reshape((100,1))**j for j in range(6)))\n",
    "y_grid = f_true(x_grid)\n",
    "\n",
    "\n",
    "for i in range(200):\n",
    "\n",
    "    x_new = np.random.uniform(-2, 5)\n",
    "    y_new = f_true(x_new) + 2*np.random.randn()\n",
    "    \n",
    "    # your code goes here\n",
    "    \n",
    "    # the rest of code is just bells and whistles\n",
    "    if (i+1)%5==0:\n",
    "        clear_output(True)\n",
    "        plt.plot(x_grid,y_grid, color='blue', label='true f')\n",
    "        plt.scatter(x_new, y_new, color='red')\n",
    "        \n",
    "        # your code goes here\n",
    "        y_pred = #...\n",
    "        \n",
    "        plt.scatter(x_grid, y_pred, color='orange', linewidth=5, label='predicted f')\n",
    "        \n",
    "        plt.legend(loc='upper left')\n",
    "        plt.show()"
   ]
  },
  {
   "cell_type": "markdown",
   "metadata": {},
   "source": [
    "### Добавление. QR-разложение"
   ]
  },
  {
   "cell_type": "markdown",
   "metadata": {},
   "source": [
    "**QR-разложением** матрицы $A$ (не обязательно квадратной) мы будем называть её представление в виде $A = QR$, где $Q$ - матрица с ортонормированными столбцами, а $R$ - верхнетреугольная матрица.\n",
    "\n",
    "Смысл QR-разложения следующий. Пусть $a_1,\\ldots,a_m$ - столбцы матрицы $A$, $q_1,\\ldots,q_t$ - столбцы матрицы $Q$. Тогда $q_1,\\ldots,q_t$ - это ортонормированный базис в подпространстве, являющемся линейной оболочкой векторов $a_1,\\ldots,a_m$, а в матрице $R$ записаны коэффициенты, с помощью которых $a_i$ выражаются через $q_1,\\ldots,q_t$.\n",
    "\n",
    "Находить QR-разложение заданной матрицы можно разными способами. Мы познакомим вас не с самым лучшим из них, но по крайней мере с наиболее простым концептуально. Заметим, что ортогональный базис линейной оболочки можно найти с помощью ортогонализации Грама-Шмидта. При этом коэффициенты из матрицы $R$ получаются в качестве побочного продукта этого процесса:\n",
    "\n",
    "```python\n",
    "for j = 1...n:\n",
    "    q_j = a_j\n",
    "    for i = 1,...,j-1:\n",
    "        r_ij = (q_i, a_j)\n",
    "        q_j = q_j - r_ij * q_i\n",
    "    r_jj = |q_j|\n",
    "    if r_jj == 0: # a_j in <a_1,...,a_j-1>\n",
    "        # What would you do in this case?..\n",
    "    q_j = q_j / r_jj\n",
    "```\n",
    "\n",
    "Для нахождения QR-разложения вы можете использовать библиотечную функцию `scipy.linalg.qr`."
   ]
  },
  {
   "cell_type": "markdown",
   "metadata": {},
   "source": [
    "Поскольку лабораторная про линейную регрессию, не так-то просто замять вопрос о том, какое же отношение QR-разложение имеет к задаче регрессии. Упомянем одно из возможных применений.\n",
    "\n",
    "Допустим, мы нашли QR-разложение матрицы $X$, а именно: $X = QR$. Тогда\n",
    "$$X^TX = (QR)^T(QR) = R^TQ^TQR = R^TR$$"
   ]
  },
  {
   "cell_type": "markdown",
   "metadata": {},
   "source": [
    "Поскольку в задаче регрессии матрица $X$ обычного полного ранга (то есть её столбцы линейно независимы), матрица $R$ будет квадратной. Благодаря этому нашу обычную формулу для набора регрессионных коэффициентов $\\hat{a}$ можно переписать в следующем виде:\n",
    "\n",
    "$$\\hat{a} = (X^TX)^{-1}X^Ty = (R^TR)^{-1}(QR)^Ty = R^{-1}(R^T)^{-1}R^TQ^Ty = R^{-1}Q^Ty$$\n",
    "\n",
    "Как видите, формула стала проще. Более того, зачастую обращение матрицы $R$ может быть численно более устойчиво, чем обращение матрицы $X^TX$."
   ]
  }
 ],
 "metadata": {
  "kernelspec": {
   "display_name": "Python 3",
   "language": "python",
   "name": "python3"
  },
  "language_info": {
   "codemirror_mode": {
    "name": "ipython",
    "version": 3
   },
   "file_extension": ".py",
   "mimetype": "text/x-python",
   "name": "python",
   "nbconvert_exporter": "python",
   "pygments_lexer": "ipython3",
   "version": "3.6.3"
  }
 },
 "nbformat": 4,
 "nbformat_minor": 1
}
